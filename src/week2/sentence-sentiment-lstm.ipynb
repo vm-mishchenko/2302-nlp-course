{
 "cells": [
  {
   "cell_type": "code",
   "execution_count": null,
   "metadata": {
    "collapsed": true
   },
   "outputs": [],
   "source": [
    "# Install all the required dependencies for the project\n",
    "!pip install spacy==2.2.4 --quiet\n",
    "!python -m spacy download en_core_web_md\n",
    "!pip install pytorch-lightning==1.6.5 spacy==2.2.4\n"
   ]
  },
  {
   "cell_type": "code",
   "execution_count": 1,
   "outputs": [],
   "source": [
    "import numpy as np\n",
    "import en_core_web_md\n"
   ],
   "metadata": {
    "collapsed": false
   }
  },
  {
   "cell_type": "code",
   "execution_count": 2,
   "outputs": [],
   "source": [
    "nlp = en_core_web_md.load()"
   ],
   "metadata": {
    "collapsed": false
   }
  },
  {
   "cell_type": "code",
   "execution_count": 3,
   "outputs": [],
   "source": [
    "# Positive sentences\n",
    "pos_sentences = ['I love this product',\n",
    "                 'This is a great movie',\n",
    "                 'The food was delicious']\n",
    "\n",
    "# Negative sentences\n",
    "neg_sentences = ['I hate this product',\n",
    "                 'This is a terrible movie',\n",
    "                 'The food was awful']\n",
    "\n",
    "# Neutral sentences\n",
    "neu_sentences = ['The weather is nice today',\n",
    "                 'I am feeling okay',\n",
    "                 'This book is okay']\n",
    "\n",
    "# Combine all sentences and create labels\n",
    "sentences = pos_sentences + neg_sentences + neu_sentences\n",
    "labels = [1, 1, 1, 0, 0, 0, 2, 2, 2]"
   ],
   "metadata": {
    "collapsed": false
   }
  },
  {
   "cell_type": "code",
   "execution_count": 4,
   "outputs": [
    {
     "data": {
      "text/plain": "array([[[ 0.18733  ,  0.40595  , -0.51174  , ...,  0.16495  ,\n          0.18757  ,  0.53874  ],\n        [ 0.13949  ,  0.53453  , -0.25247  , ..., -0.015228 ,\n          0.088408 ,  0.30217  ]],\n\n       [[-0.087595 ,  0.35502  ,  0.063868 , ...,  0.03446  ,\n         -0.15027  ,  0.40673  ],\n        [-0.084961 ,  0.502    ,  0.0023823, ..., -0.21511  ,\n         -0.26304  , -0.0060173]],\n\n       [[ 0.27204  , -0.06203  , -0.1884   , ...,  0.13015  ,\n         -0.18317  ,  0.1323   ],\n        [-0.43512  ,  0.028351 ,  0.4911   , ..., -0.47151  ,\n          0.4301   ,  0.36573  ]],\n\n       ...,\n\n       [[ 0.27204  , -0.06203  , -0.1884   , ...,  0.13015  ,\n         -0.18317  ,  0.1323   ],\n        [ 0.016676 ,  0.33764  ,  0.05375  , ...,  0.14036  ,\n         -0.049984 , -0.020776 ]],\n\n       [[ 0.18733  ,  0.40595  , -0.51174  , ...,  0.16495  ,\n          0.18757  ,  0.53874  ],\n        [-0.08176  ,  0.9505   , -0.19627  , ..., -0.15184  ,\n         -0.23864  ,  0.41293  ]],\n\n       [[-0.087595 ,  0.35502  ,  0.063868 , ...,  0.03446  ,\n         -0.15027  ,  0.40673  ],\n        [-0.25634  ,  0.37457  , -0.004352 , ..., -0.44008  ,\n          0.15951  , -0.40153  ]]], dtype=float32)"
     },
     "execution_count": 4,
     "metadata": {},
     "output_type": "execute_result"
    }
   ],
   "source": [
    "# Tokenize and vectorize sentences\n",
    "max_len = 2\n",
    "sentences_vectors = []\n",
    "for sentence in sentences:\n",
    "  tokens = nlp(sentence)\n",
    "  vectors = []\n",
    "  for token in tokens:\n",
    "    if token.has_vector:\n",
    "      vectors.append(token.vector)\n",
    "  vectors = vectors[:max_len] # Truncate vectors if they exceed max length\n",
    "  vectors += [[0] * 300] * (max_len - len(vectors)) # Pad vectors with zeros\n",
    "  sentences_vectors.append(vectors)\n",
    "\n",
    "sentences_vectors = np.array(sentences_vectors)\n",
    "sentences_vectors"
   ],
   "metadata": {
    "collapsed": false
   }
  },
  {
   "cell_type": "code",
   "execution_count": 5,
   "outputs": [],
   "source": [
    "import torch\n",
    "from torch import nn\n",
    "from torch.utils.data import DataLoader, Dataset\n",
    "\n",
    "# Split data into training and testing sets\n",
    "train_vectors = sentences_vectors[:7]\n",
    "train_labels = labels[:7]\n",
    "test_vectors = sentences_vectors[7:]\n",
    "test_labels = labels[7:]\n",
    "\n",
    "# Define PyTorch dataset\n",
    "class SentimentDataset(Dataset):\n",
    "  def __init__(self, vectors, labels):\n",
    "    self.vectors = torch.tensor(vectors).float()\n",
    "    self.labels = torch.tensor(labels).long()\n",
    "\n",
    "  def __getitem__(self, index):\n",
    "    return self.vectors[index], self.labels[index]\n",
    "\n",
    "  def __len__(self):\n",
    "    return len(self.labels)"
   ],
   "metadata": {
    "collapsed": false
   }
  },
  {
   "cell_type": "code",
   "execution_count": 6,
   "outputs": [],
   "source": [
    "# Define PyTorch LSTM model\n",
    "class SentimentLSTM(nn.Module):\n",
    "  def __init__(self, input_size, hidden_size, num_layers, num_classes):\n",
    "    super(SentimentLSTM, self).__init__()\n",
    "    self.hidden_size = hidden_size\n",
    "    self.num_layers = num_layers\n",
    "    self.lstm = nn.LSTM(input_size, hidden_size, num_layers, batch_first=True)\n",
    "    self.fc = nn.Linear(hidden_size, num_classes)\n",
    "\n",
    "  def forward(self, batch):\n",
    "    h0 = torch.zeros(self.num_layers, batch.size(0), self.hidden_size).to(batch.device)\n",
    "    c0 = torch.zeros(self.num_layers, batch.size(0), self.hidden_size).to(batch.device)\n",
    "    # out_lstm - contains the hidden state of the LSTM at each time step\n",
    "    # I could use it if I need to access all these states.\n",
    "    # If I need just combined, resulted state I could use \"hidden_state\" instead.\n",
    "    out_lstm, (hidden_state, cell_state) = self.lstm(batch, (h0, c0))\n",
    "    last_lstm_layer = out_lstm[:, -1, :]\n",
    "    out_linear = self.fc(hidden_state[-1])\n",
    "    return out_linear"
   ],
   "metadata": {
    "collapsed": false
   }
  },
  {
   "cell_type": "code",
   "execution_count": 7,
   "outputs": [],
   "source": [
    "# Define model hyperparameters\n",
    "input_size = 300\n",
    "hidden_size = 128\n",
    "num_layers = 1\n",
    "num_classes = 3\n",
    "batch_size = 2\n",
    "\n",
    "# Create PyTorch data loaders\n",
    "train_dataset = SentimentDataset(train_vectors, train_labels)\n",
    "train_loader = DataLoader(train_dataset, batch_size=batch_size, shuffle=True)\n",
    "test_dataset = SentimentDataset(test_vectors, test_labels)\n",
    "test_loader = DataLoader(test_dataset, batch_size=batch_size, shuffle=False)\n",
    "\n",
    "# Create model\n",
    "model = SentimentLSTM(input_size, hidden_size, num_layers, num_classes)"
   ],
   "metadata": {
    "collapsed": false
   }
  },
  {
   "cell_type": "code",
   "execution_count": 8,
   "outputs": [
    {
     "name": "stdout",
     "output_type": "stream",
     "text": [
      "Epoch [1/100], Loss: 1.0605\n",
      "Epoch [1/100], Loss: 1.1652\n",
      "Epoch [2/100], Loss: 1.0560\n",
      "Epoch [2/100], Loss: 0.8930\n",
      "Epoch [3/100], Loss: 0.9656\n",
      "Epoch [3/100], Loss: 0.8717\n",
      "Epoch [4/100], Loss: 0.8251\n",
      "Epoch [4/100], Loss: 0.9370\n",
      "Epoch [5/100], Loss: 0.7312\n",
      "Epoch [5/100], Loss: 0.8892\n",
      "Epoch [6/100], Loss: 0.7492\n",
      "Epoch [6/100], Loss: 0.5670\n",
      "Epoch [7/100], Loss: 0.8279\n",
      "Epoch [7/100], Loss: 0.4800\n",
      "Epoch [8/100], Loss: 0.6321\n",
      "Epoch [8/100], Loss: 0.4060\n",
      "Epoch [9/100], Loss: 0.6749\n",
      "Epoch [9/100], Loss: 0.8454\n",
      "Epoch [10/100], Loss: 0.4805\n",
      "Epoch [10/100], Loss: 0.2593\n",
      "Epoch [11/100], Loss: 0.6484\n",
      "Epoch [11/100], Loss: 0.1548\n",
      "Epoch [12/100], Loss: 0.6954\n",
      "Epoch [12/100], Loss: 0.6798\n",
      "Epoch [13/100], Loss: 0.3510\n",
      "Epoch [13/100], Loss: 0.1673\n",
      "Epoch [14/100], Loss: 0.7279\n",
      "Epoch [14/100], Loss: 0.1456\n",
      "Epoch [15/100], Loss: 0.4796\n",
      "Epoch [15/100], Loss: 0.5937\n",
      "Epoch [16/100], Loss: 0.0804\n",
      "Epoch [16/100], Loss: 0.7418\n",
      "Epoch [17/100], Loss: 0.3810\n",
      "Epoch [17/100], Loss: 0.5384\n",
      "Epoch [18/100], Loss: 0.2971\n",
      "Epoch [18/100], Loss: 0.8354\n",
      "Epoch [19/100], Loss: 0.0608\n",
      "Epoch [19/100], Loss: 0.8202\n",
      "Epoch [20/100], Loss: 0.5965\n",
      "Epoch [20/100], Loss: 0.6935\n",
      "Epoch [21/100], Loss: 0.0482\n",
      "Epoch [21/100], Loss: 0.9443\n",
      "Epoch [22/100], Loss: 0.3016\n",
      "Epoch [22/100], Loss: 0.9198\n",
      "Epoch [23/100], Loss: 0.3339\n",
      "Epoch [23/100], Loss: 0.0240\n",
      "Epoch [24/100], Loss: 0.7046\n",
      "Epoch [24/100], Loss: 0.0545\n",
      "Epoch [25/100], Loss: 0.3013\n",
      "Epoch [25/100], Loss: 0.0206\n",
      "Epoch [26/100], Loss: 0.8321\n",
      "Epoch [26/100], Loss: 0.7047\n",
      "Epoch [27/100], Loss: 0.6320\n",
      "Epoch [27/100], Loss: 0.6537\n",
      "Epoch [28/100], Loss: 0.4232\n",
      "Epoch [28/100], Loss: 0.0305\n",
      "Epoch [29/100], Loss: 0.2810\n",
      "Epoch [29/100], Loss: 0.9614\n",
      "Epoch [30/100], Loss: 0.4757\n",
      "Epoch [30/100], Loss: 0.7712\n",
      "Epoch [31/100], Loss: 0.3712\n",
      "Epoch [31/100], Loss: 0.0349\n",
      "Epoch [32/100], Loss: 0.4157\n",
      "Epoch [32/100], Loss: 0.7061\n",
      "Epoch [33/100], Loss: 0.2929\n",
      "Epoch [33/100], Loss: 0.8365\n",
      "Epoch [34/100], Loss: 0.3136\n",
      "Epoch [34/100], Loss: 0.0337\n",
      "Epoch [35/100], Loss: 0.8318\n",
      "Epoch [35/100], Loss: 0.0289\n",
      "Epoch [36/100], Loss: 0.4265\n",
      "Epoch [36/100], Loss: 0.6391\n",
      "Epoch [37/100], Loss: 0.4117\n",
      "Epoch [37/100], Loss: 0.0229\n",
      "Epoch [38/100], Loss: 0.3082\n",
      "Epoch [38/100], Loss: 0.8604\n",
      "Epoch [39/100], Loss: 0.6617\n",
      "Epoch [39/100], Loss: 0.0252\n",
      "Epoch [40/100], Loss: 0.3980\n",
      "Epoch [40/100], Loss: 0.6479\n",
      "Epoch [41/100], Loss: 0.7012\n",
      "Epoch [41/100], Loss: 0.0095\n",
      "Epoch [42/100], Loss: 0.4457\n",
      "Epoch [42/100], Loss: 0.0246\n",
      "Epoch [43/100], Loss: 0.8695\n",
      "Epoch [43/100], Loss: 0.0142\n",
      "Epoch [44/100], Loss: 0.0115\n",
      "Epoch [44/100], Loss: 0.6776\n",
      "Epoch [45/100], Loss: 0.3370\n",
      "Epoch [45/100], Loss: 0.7896\n",
      "Epoch [46/100], Loss: 0.3248\n",
      "Epoch [46/100], Loss: 0.7732\n",
      "Epoch [47/100], Loss: 0.3551\n",
      "Epoch [47/100], Loss: 0.0175\n",
      "Epoch [48/100], Loss: 0.4014\n",
      "Epoch [48/100], Loss: 0.6509\n",
      "Epoch [49/100], Loss: 0.7252\n",
      "Epoch [49/100], Loss: 0.8787\n",
      "Epoch [50/100], Loss: 0.0150\n",
      "Epoch [50/100], Loss: 0.5844\n",
      "Epoch [51/100], Loss: 0.3173\n",
      "Epoch [51/100], Loss: 0.7945\n",
      "Epoch [52/100], Loss: 0.4404\n",
      "Epoch [52/100], Loss: 0.5896\n",
      "Epoch [53/100], Loss: 0.7531\n",
      "Epoch [53/100], Loss: 0.0065\n",
      "Epoch [54/100], Loss: 0.4369\n",
      "Epoch [54/100], Loss: 0.6396\n",
      "Epoch [55/100], Loss: 0.5762\n",
      "Epoch [55/100], Loss: 0.8900\n",
      "Epoch [56/100], Loss: 0.0123\n",
      "Epoch [56/100], Loss: 0.8762\n",
      "Epoch [57/100], Loss: 0.3083\n",
      "Epoch [57/100], Loss: 0.0125\n",
      "Epoch [58/100], Loss: 0.3399\n",
      "Epoch [58/100], Loss: 0.6156\n",
      "Epoch [59/100], Loss: 0.3356\n",
      "Epoch [59/100], Loss: 0.0108\n",
      "Epoch [60/100], Loss: 0.3983\n",
      "Epoch [60/100], Loss: 0.5987\n",
      "Epoch [61/100], Loss: 0.2902\n",
      "Epoch [61/100], Loss: 0.9080\n",
      "Epoch [62/100], Loss: 0.0090\n",
      "Epoch [62/100], Loss: 0.8251\n",
      "Epoch [63/100], Loss: 0.4000\n",
      "Epoch [63/100], Loss: 0.0051\n",
      "Epoch [64/100], Loss: 0.3536\n",
      "Epoch [64/100], Loss: 0.7595\n",
      "Epoch [65/100], Loss: 0.0082\n",
      "Epoch [65/100], Loss: 0.7389\n",
      "Epoch [66/100], Loss: 0.6955\n",
      "Epoch [66/100], Loss: 0.7677\n",
      "Epoch [67/100], Loss: 0.6875\n",
      "Epoch [67/100], Loss: 0.7885\n",
      "Epoch [68/100], Loss: 0.3894\n",
      "Epoch [68/100], Loss: 0.6995\n",
      "Epoch [69/100], Loss: 0.6665\n",
      "Epoch [69/100], Loss: 0.0095\n",
      "Epoch [70/100], Loss: 0.0098\n",
      "Epoch [70/100], Loss: 0.6068\n",
      "Epoch [71/100], Loss: 0.6175\n",
      "Epoch [71/100], Loss: 0.8781\n",
      "Epoch [72/100], Loss: 0.0069\n",
      "Epoch [72/100], Loss: 0.6275\n",
      "Epoch [73/100], Loss: 0.0065\n",
      "Epoch [73/100], Loss: 0.6122\n",
      "Epoch [74/100], Loss: 0.7018\n",
      "Epoch [74/100], Loss: 0.7623\n",
      "Epoch [75/100], Loss: 0.2855\n",
      "Epoch [75/100], Loss: 0.8804\n",
      "Epoch [76/100], Loss: 0.4254\n",
      "Epoch [76/100], Loss: 0.0038\n",
      "Epoch [77/100], Loss: 0.3828\n",
      "Epoch [77/100], Loss: 0.0078\n",
      "Epoch [78/100], Loss: 0.6536\n",
      "Epoch [78/100], Loss: 0.0036\n",
      "Epoch [79/100], Loss: 0.6955\n",
      "Epoch [79/100], Loss: 0.0069\n",
      "Epoch [80/100], Loss: 0.3342\n",
      "Epoch [80/100], Loss: 0.8389\n",
      "Epoch [81/100], Loss: 0.3663\n",
      "Epoch [81/100], Loss: 0.0083\n",
      "Epoch [82/100], Loss: 0.3542\n",
      "Epoch [82/100], Loss: 0.7161\n",
      "Epoch [83/100], Loss: 0.6967\n",
      "Epoch [83/100], Loss: 0.0078\n",
      "Epoch [84/100], Loss: 0.6647\n",
      "Epoch [84/100], Loss: 0.7847\n",
      "Epoch [85/100], Loss: 0.6483\n",
      "Epoch [85/100], Loss: 0.7705\n",
      "Epoch [86/100], Loss: 0.0051\n",
      "Epoch [86/100], Loss: 0.0073\n",
      "Epoch [87/100], Loss: 0.3536\n",
      "Epoch [87/100], Loss: 0.0030\n",
      "Epoch [88/100], Loss: 0.0050\n",
      "Epoch [88/100], Loss: 0.7372\n",
      "Epoch [89/100], Loss: 0.3568\n",
      "Epoch [89/100], Loss: 0.7341\n",
      "Epoch [90/100], Loss: 0.3803\n",
      "Epoch [90/100], Loss: 0.7034\n",
      "Epoch [91/100], Loss: 0.3672\n",
      "Epoch [91/100], Loss: 0.6956\n",
      "Epoch [92/100], Loss: 0.3405\n",
      "Epoch [92/100], Loss: 0.7415\n",
      "Epoch [93/100], Loss: 0.3850\n",
      "Epoch [93/100], Loss: 0.7022\n",
      "Epoch [94/100], Loss: 0.3227\n",
      "Epoch [94/100], Loss: 0.6308\n",
      "Epoch [95/100], Loss: 0.3233\n",
      "Epoch [95/100], Loss: 0.7676\n",
      "Epoch [96/100], Loss: 0.6950\n",
      "Epoch [96/100], Loss: 0.0056\n",
      "Epoch [97/100], Loss: 0.2387\n",
      "Epoch [97/100], Loss: 0.0071\n",
      "Epoch [98/100], Loss: 0.5006\n",
      "Epoch [98/100], Loss: 0.4872\n",
      "Epoch [99/100], Loss: 0.4904\n",
      "Epoch [99/100], Loss: 0.7892\n",
      "Epoch [100/100], Loss: 0.3813\n",
      "Epoch [100/100], Loss: 0.0024\n"
     ]
    }
   ],
   "source": [
    "# Train model\n",
    "num_epochs = 100\n",
    "total_step = len(train_loader)\n",
    "\n",
    "# Define loss function and optimizer\n",
    "criterion = nn.CrossEntropyLoss()\n",
    "optimizer = torch.optim.Adam(model.parameters(), lr=0.001)\n",
    "\n",
    "for epoch in range(num_epochs):\n",
    "  for i, (vectors, labels) in enumerate(train_loader):\n",
    "    outputs = model(vectors)\n",
    "    loss = criterion(outputs, labels)\n",
    "    optimizer.zero_grad()\n",
    "    loss.backward()\n",
    "    optimizer.step()\n",
    "\n",
    "    if (i+1) % 2 == 0:\n",
    "      print ('Epoch [{}/{}], Loss: {:.4f}'\n",
    "             .format(epoch+1, num_epochs, loss.item()))\n"
   ],
   "metadata": {
    "collapsed": false
   }
  },
  {
   "cell_type": "code",
   "execution_count": 9,
   "outputs": [
    {
     "name": "stdout",
     "output_type": "stream",
     "text": [
      "Accuracy: 0.00%\n"
     ]
    }
   ],
   "source": [
    "# Evaluate the model on the test set\n",
    "correct = 0\n",
    "total = 0\n",
    "with torch.no_grad():\n",
    "  for batch in test_loader:\n",
    "    inputs, labels = batch\n",
    "    outputs = model(inputs)\n",
    "    _, predicted = torch.max(outputs.data, 1)\n",
    "    total += labels.size(0)\n",
    "    correct += (predicted == labels).sum().item()\n",
    "\n",
    "accuracy = 100 * correct / total\n",
    "print('Accuracy: {:.2f}%'.format(accuracy))"
   ],
   "metadata": {
    "collapsed": false
   }
  },
  {
   "cell_type": "code",
   "execution_count": 15,
   "outputs": [
    {
     "name": "stdout",
     "output_type": "stream",
     "text": [
      "Predicted class: tensor([1])\n"
     ]
    }
   ],
   "source": [
    "# test model\n",
    "\n",
    "# Tokenize the text\n",
    "text = \"nice\"\n",
    "\n",
    "tokens = nlp(text)\n",
    "vectors = []\n",
    "for token in tokens:\n",
    "  if token.has_vector:\n",
    "    vectors.append(token.vector)\n",
    "vectors = vectors[:max_len] # Truncate vectors if they exceed max length\n",
    "vectors += [[0] * 300] * (max_len - len(vectors)) # Pad vectors with zeros\n",
    "\n",
    "# Convert to PyTorch tensor\n",
    "inputs = torch.tensor([vectors])\n",
    "\n",
    "# Pass input through model\n",
    "model.eval()\n",
    "with torch.no_grad():\n",
    "  outputs = model(inputs)\n",
    "\n",
    "# Get predicted class\n",
    "probs = torch.softmax(outputs, dim=1)\n",
    "_, predicted = torch.max(probs.data, 1)\n",
    "\n",
    "# Print predicted class\n",
    "print(\"Predicted class:\", predicted)"
   ],
   "metadata": {
    "collapsed": false
   }
  },
  {
   "cell_type": "code",
   "execution_count": null,
   "outputs": [],
   "source": [],
   "metadata": {
    "collapsed": false
   }
  }
 ],
 "metadata": {
  "kernelspec": {
   "display_name": "Python 3",
   "language": "python",
   "name": "python3"
  },
  "language_info": {
   "codemirror_mode": {
    "name": "ipython",
    "version": 2
   },
   "file_extension": ".py",
   "mimetype": "text/x-python",
   "name": "python",
   "nbconvert_exporter": "python",
   "pygments_lexer": "ipython2",
   "version": "2.7.6"
  }
 },
 "nbformat": 4,
 "nbformat_minor": 0
}
